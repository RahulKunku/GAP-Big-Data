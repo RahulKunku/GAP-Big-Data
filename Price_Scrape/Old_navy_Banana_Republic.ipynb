{
 "cells": [
  {
   "cell_type": "code",
   "execution_count": null,
   "id": "aec7db14",
   "metadata": {
    "scrolled": true
   },
   "outputs": [],
   "source": [
    "from bs4 import BeautifulSoup as bs\n",
    "from selenium import webdriver\n",
    "from selenium.webdriver.firefox.options import Options\n",
    "from selenium.webdriver.common.by import By\n",
    "from selenium.webdriver.support.wait import WebDriverWait\n",
    "from selenium.webdriver.support import expected_conditions as EC\n",
    "from selenium.webdriver.firefox.service import Service\n",
    "from webdriver_manager.firefox import GeckoDriverManager\n",
    "import time\n",
    "import random\n",
    "import json\n",
    "import csv\n",
    "import requests\n",
    "import json\n",
    "import urllib.request, urllib.error, urllib.parse\n",
    "import pprint\n",
    "import nltk\n",
    "nltk.download('all')\n",
    "from nltk.corpus import stopwords\n",
    "from nltk.tokenize import sent_tokenize\n",
    "from nltk.tokenize import word_tokenize\n",
    "import nltk\n",
    "nltk.download('punkt')\n",
    "\n",
    "\n",
    "\n"
   ]
  },
  {
   "cell_type": "code",
   "execution_count": 10,
   "id": "0dba6943",
   "metadata": {
    "scrolled": true
   },
   "outputs": [
    {
     "name": "stderr",
     "output_type": "stream",
     "text": [
      "C:\\Users\\Shubhankar Sharma\\AppData\\Local\\Temp\\ipykernel_2288\\1580259506.py:6: DeprecationWarning: Firefox will soon stop logging to geckodriver.log by default; Specify desired logs with log_output\n",
      "  driver = webdriver.Firefox(service=Service(GeckoDriverManager().install()), options = firefox_options)\n"
     ]
    },
    {
     "name": "stdout",
     "output_type": "stream",
     "text": [
      "[35.99, 22.99, 30.99, 34.99, 32.99, 32.99, 27.99, 32.99, 39.99, 30.99, 21.99, 25.99, 45.99, 35.99, 39.99, 33.99, 24.99, 38.99, 28.99, 25.99, 55.99, 26.99, 36.99, 26.99, 36.99, 30.99, 28.99, 36.99, 18.99, 31.99, 28.99, 36.99, 37.99, 23.99, 33.99, 19.99, 29.99, 30.99, 41.99, 29.99, 10.99, 42.99, 34.99, 33.99, 21.99, 35.99, 24.99, 28.99, 28.99, 31.99, 38.99, 28.99, 33.99, 28.99, 31.99, 19.99, 28.99, 27.99, 28.99, 12.99, 31.99, 23.99, 37.99, 26.99, 37.99, 31.99, 35.99, 27.99, 38.99, 51.99, 29.99, 16.99, 23.99, 21.99, 38.99, 26.99, 32.99, 28.99, 23.99, 41.99, 26.99, 33.99, 42.99, 27.99, 34.99, 30.99, 32.99, 31.99, 27.99, 36.99, 43.99, 27.99, 12.99, 18.99, 27.99, 77.99, 40.99, 39.99, 32.99, 34.99, 38.99, 40.99, 31.99, 28.99, 42.99, 28.99, 26.99, 34.99, 30.99, 35.99, 41.99, 31.99, 31.99, 25.99, 33.99, 32.99, 21.99, 28.99]\n"
     ]
    }
   ],
   "source": [
    "url = 'https://www.thredup.com/women?department_tags=women&text=banana%20republic%20dresses'\n",
    "firefox_options = Options()\n",
    "#firefox_options.add_argument('--headless')\n",
    "firefox_options.add_argument('--no-sandbox')\n",
    "firefox_options.add_argument('--disable-dev-shm-usage')\n",
    "driver = webdriver.Firefox(service=Service(GeckoDriverManager().install()), options = firefox_options)\n",
    "text_gap = []\n",
    "text_zara = []\n",
    "\n",
    "driver.get(url) \n",
    "time.sleep(random.uniform(3,7))\n",
    "\n",
    "html = driver.page_source \n",
    "soup = bs(html, \"html.parser\")\n",
    "for html_class in soup.find_all('div', class_=\"u-px-2xs item-card-body\"):\n",
    "    sublink = html_class.find('span', class_=\"u-inline-block u-font-bold\").get_text()\n",
    "    #sublink_text = sublink.find_all('span', class_=\"u-inline-block u-font-bold\").get_text()\n",
    "    sublink = float(sublink.replace('$',''))\n",
    "    text_gap.append(sublink)\n",
    "\n",
    "        \n",
    "\n",
    "print(text_gap)\n",
    "driver.quit() \n",
    "import csv \n",
    "\n",
    "# Open the CSV file in write mode\n",
    "#with open('review_data_iphone.csv', 'w', newline='') as csvfile: \n",
    "with open('Banana_Republic_Prices.csv', 'w', newline='', encoding=\"utf-8\") as csvfile: \n",
    "    # Create a CSV writer object \n",
    "    writer = csv.writer(csvfile) \n",
    "    #writer.writerow([\"Product\",\"User\",\"Review\"])\n",
    "    \n",
    "    # Iterate over the lists and write each element to a separate column \n",
    "    for i in range(len(text_gap)): \n",
    "        writer.writerow([text_gap[i]])\n"
   ]
  },
  {
   "cell_type": "code",
   "execution_count": 14,
   "id": "fbe3afe6",
   "metadata": {},
   "outputs": [
    {
     "name": "stdout",
     "output_type": "stream",
     "text": [
      "There is a significant difference between the two brands.\n",
      "9.515257297847886e-30\n"
     ]
    }
   ],
   "source": [
    "import numpy as np\n",
    "from scipy import stats\n",
    "Old_Navy_prices = [35.99, 22.99, 30.99, 34.99, 32.99, 32.99, 27.99, 32.99, 39.99, 30.99, 21.99, 25.99, 45.99, 35.99, 39.99, 33.99, 24.99, 38.99, 28.99, 25.99, 55.99, 26.99, 36.99, 26.99, 36.99, 30.99, 28.99, 36.99, 18.99, 31.99, 28.99, 36.99, 37.99, 23.99, 33.99, 19.99, 29.99, 30.99, 41.99, 29.99, 10.99, 42.99, 34.99, 33.99, 21.99, 35.99, 24.99, 28.99, 28.99, 31.99, 38.99, 28.99, 33.99, 28.99, 31.99, 19.99, 28.99, 27.99, 28.99, 12.99, 31.99, 23.99, 37.99, 26.99, 37.99, 31.99, 35.99, 27.99, 38.99, 51.99, 29.99, 16.99, 23.99, 21.99, 38.99, 26.99, 32.99, 28.99, 23.99, 41.99, 26.99, 33.99, 42.99, 27.99, 34.99, 30.99, 32.99, 31.99, 27.99, 36.99, 43.99, 27.99, 12.99, 18.99, 27.99, 77.99, 40.99, 39.99, 32.99, 34.99, 38.99, 40.99, 31.99, 28.99, 42.99, 28.99, 26.99, 34.99, 30.99, 35.99, 41.99, 31.99, 31.99, 25.99, 33.99, 32.99, 21.99, 28.99]\n",
    "Banana_Republic_prices = [20.99,18.99,20.99,20.99,22.99,17.99,20.99,20.99,19.99,19.99,22.99,21.99,22.99,25.99,21.99,17.99,16.99,23.99,17.99,13.99,21.99,18.99,23.99,16.99,28.99,24.99,22.99,24.99,17.99,25.99,18.99,17.99,18.99,20.99,23.99,21.99,21.99,22.99,21.99,22.99,23.99,19.99,16.99,21.99,18.99,17.99,16.99,23.99,20.99,26.99,29.99,21.99,16.99,22.99,15.99,20.99,16.99,18.99,20.99,16.99,22.99,18.99,18.99,20.99,18.99,19.99,16.99,23.99,23.99,19.99,16.99,21.99,19.99,27.99,21.99,21.99,22.99,18.99,18.99,21.99,26.99,21.99,19.99,20.99,21.99,16.99,15.99,27.99,24.99,18.99,16.99,17.99,12.99,12.99,26.99,22.99,7.99,23.99,16.99,21.99,22.99,20.99,22.99,20.99,21.99,23.99,17.99,21.99,29.99,17.99,19.99,19.99,21.99,21.99,18.99,25.99,22.99,17.99]\n",
    "t_statistic, p_value = stats.ttest_ind(brand1_prices, brand2_prices)\n",
    "alpha = 0.05\n",
    "if p_value < alpha:\n",
    "    print(\"There is a significant difference between the two brands.\")\n",
    "else:\n",
    "    print(\"There is no significant difference between the two brands.\")\n",
    "print(p_value)"
   ]
  },
  {
   "cell_type": "code",
   "execution_count": 7,
   "id": "7272358d",
   "metadata": {},
   "outputs": [],
   "source": []
  }
 ],
 "metadata": {
  "kernelspec": {
   "display_name": "Python 3 (ipykernel)",
   "language": "python",
   "name": "python3"
  },
  "language_info": {
   "codemirror_mode": {
    "name": "ipython",
    "version": 3
   },
   "file_extension": ".py",
   "mimetype": "text/x-python",
   "name": "python",
   "nbconvert_exporter": "python",
   "pygments_lexer": "ipython3",
   "version": "3.11.4"
  }
 },
 "nbformat": 4,
 "nbformat_minor": 5
}
